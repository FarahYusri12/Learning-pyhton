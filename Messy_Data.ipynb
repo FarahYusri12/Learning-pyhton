{
  "nbformat": 4,
  "nbformat_minor": 0,
  "metadata": {
    "colab": {
      "provenance": [],
      "authorship_tag": "ABX9TyPiRtG/ExflCJ0hX8TTFltn",
      "include_colab_link": true
    },
    "kernelspec": {
      "name": "python3",
      "display_name": "Python 3"
    },
    "language_info": {
      "name": "python"
    }
  },
  "cells": [
    {
      "cell_type": "markdown",
      "metadata": {
        "id": "view-in-github",
        "colab_type": "text"
      },
      "source": [
        "<a href=\"https://colab.research.google.com/github/FarahYusri12/Learning-pyhton/blob/main/Messy_Data.ipynb\" target=\"_parent\"><img src=\"https://colab.research.google.com/assets/colab-badge.svg\" alt=\"Open In Colab\"/></a>"
      ]
    },
    {
      "cell_type": "code",
      "execution_count": 2,
      "metadata": {
        "id": "KutmGq2A2nVD"
      },
      "outputs": [],
      "source": [
        "import pandas as pd\n",
        "import numpy as np"
      ]
    },
    {
      "cell_type": "code",
      "source": [
        "df = pd.read_csv('Messy_Data.csv')"
      ],
      "metadata": {
        "id": "UCCtRTR1N1wN"
      },
      "execution_count": 3,
      "outputs": []
    },
    {
      "cell_type": "code",
      "source": [
        "# First step dalam data cleaning- kumpul maklumat mengenai data\n",
        "\n",
        "# ini tajuk atas data\n",
        "print(\"Data Asal(Messy_Data.csv):\")\n",
        "print(df)\n",
        "# untuk membezakan dua bahagian output yang berbeza\n",
        "print(\"\\n\" + \"=\"*50 + \"\\n\")"
      ],
      "metadata": {
        "colab": {
          "base_uri": "https://localhost:8080/"
        },
        "id": "boAIbKuDQsh0",
        "outputId": "e7b9988c-0211-4957-fb48-f48f82fbeafd"
      },
      "execution_count": 4,
      "outputs": [
        {
          "output_type": "stream",
          "name": "stdout",
          "text": [
            "Data Asal(Messy_Data.csv):\n",
            "      Name   Age     State Score\n",
            "0      Ali  25.0  Selangor    85\n",
            "1  Fatimah   NaN     Johor    90\n",
            "2    Ahmad  30.0  Selangor    88\n",
            "3     Siti  27.0     Johor     -\n",
            "4    Ahmad  30.0  Selangor    88\n",
            "5      NaN  22.0        KL    70\n",
            "6    Hafiz  35.0     Sabah   105\n",
            "\n",
            "==================================================\n",
            "\n"
          ]
        }
      ]
    },
    {
      "cell_type": "code",
      "source": [
        "print(\"Maklumat Data :\",'\\n')\n",
        "df.info()\n",
        "print(\"\\n\" + \"=\"*50 + \"\\n\")\n",
        "\n",
        "print(\"Statistik Deskriptif:\",'\\n')\n",
        "print(df.describe(include='all'))\n",
        "print(\"\\n\" + \"=\"*50 + \"\\n\")\n",
        "\n",
        "# command untuk tahu berapa banyak nilai yang hilang\n",
        "print(\"Bilangan Nilai Hilang:\",'\\n')\n",
        "print(df.isnull().sum())\n",
        "print(\"\\n\" + \"=\"*50 + \"\\n\")"
      ],
      "metadata": {
        "colab": {
          "base_uri": "https://localhost:8080/"
        },
        "id": "y_vFDnX6VPb0",
        "outputId": "af2d9f38-731f-4f3c-866e-10d1681820e8"
      },
      "execution_count": 26,
      "outputs": [
        {
          "output_type": "stream",
          "name": "stdout",
          "text": [
            "Maklumat Data : \n",
            "\n",
            "<class 'pandas.core.frame.DataFrame'>\n",
            "RangeIndex: 7 entries, 0 to 6\n",
            "Data columns (total 4 columns):\n",
            " #   Column  Non-Null Count  Dtype  \n",
            "---  ------  --------------  -----  \n",
            " 0   Name    7 non-null      object \n",
            " 1   Age     6 non-null      float64\n",
            " 2   State   7 non-null      object \n",
            " 3   Score   6 non-null      object \n",
            "dtypes: float64(1), object(3)\n",
            "memory usage: 356.0+ bytes\n",
            "\n",
            "==================================================\n",
            "\n",
            "Statistik Deskriptif: \n",
            "\n",
            "         Name        Age     State Score\n",
            "count       7   6.000000         7     6\n",
            "unique      6        NaN         4     5\n",
            "top     Ahmad        NaN  Selangor    88\n",
            "freq        2        NaN         3     2\n",
            "mean      NaN  28.166667       NaN   NaN\n",
            "std       NaN   4.535049       NaN   NaN\n",
            "min       NaN  22.000000       NaN   NaN\n",
            "25%       NaN  25.500000       NaN   NaN\n",
            "50%       NaN  28.500000       NaN   NaN\n",
            "75%       NaN  30.000000       NaN   NaN\n",
            "max       NaN  35.000000       NaN   NaN\n",
            "\n",
            "==================================================\n",
            "\n",
            "Bilangan Nilai Hilang: \n",
            "\n",
            "Name     0\n",
            "Age      1\n",
            "State    0\n",
            "Score    1\n",
            "dtype: int64\n",
            "\n",
            "==================================================\n",
            "\n"
          ]
        }
      ]
    },
    {
      "cell_type": "code",
      "source": [
        "# Second step- settle nilai yang hilang\n",
        "\n",
        "#Isi column 'Name' dengan Unknown\n",
        "df['Name']= df['Name'].fillna('Unknown')\n",
        "\n",
        "#Isi column Age dgn mencari mean age since dalam column untuk age tiada outlier yang extrem\n",
        "# Ubah format Age dari float64 ke integer\n",
        "\n",
        "Mean_Age=df['Age'].mean()\n",
        "df['Age']=df['Age'].fillna(Mean_Age)\n",
        "df['Age']=df['Age'].astype(int)\n",
        "\n",
        "# Score better guna median kalau ada outlier yang extrem, anggap 105 adalah outlier\n",
        "# Untuk 'Score' kene tukar datatype dulu baru kira median ( object ke float64)\n",
        "df['Score']=df['Score'].astype(float)\n",
        "Median_Score=df['Score'].median()\n",
        "df['Score']=df['Score'].fillna(Median_Score)\n",
        "\n",
        "print(\"Selepas mengisi nilai yang hilang:\",'\\n')\n",
        "print(df)\n",
        "print(\"\\n\" + \"=\"*50 + \"\\n\")"
      ],
      "metadata": {
        "colab": {
          "base_uri": "https://localhost:8080/"
        },
        "id": "Ovad0EPJ9v0R",
        "outputId": "4c8870ad-f810-4e26-9d8e-573dba160380"
      },
      "execution_count": 39,
      "outputs": [
        {
          "output_type": "stream",
          "name": "stdout",
          "text": [
            "Selepas mengisi nilai yang hilang: \n",
            "\n",
            "      Name  Age     State  Score\n",
            "0      Ali   25  Selangor   85.0\n",
            "1  Fatimah   28     Johor   90.0\n",
            "2    Ahmad   30  Selangor   88.0\n",
            "3     Siti   27     Johor   88.0\n",
            "4    Ahmad   30  Selangor   88.0\n",
            "5  Unknown   22        KL   70.0\n",
            "6    Hafiz   35     Sabah  105.0\n",
            "\n",
            "==================================================\n",
            "\n"
          ]
        }
      ]
    },
    {
      "cell_type": "code",
      "source": [
        "# Third step- settle duplicate\n",
        "\n",
        "# 'Keep first' kekalkan kehadiran pertama\n",
        "df_cleaned_duplicate=df.drop_duplicates(keep='first')\n",
        "print(\"Selepas menghapus duplicate:\",'\\n')\n",
        "print(df_cleaned_duplicate)\n",
        "print(\"\\n\" + \"=\"*50 + \"\\n\")"
      ],
      "metadata": {
        "colab": {
          "base_uri": "https://localhost:8080/"
        },
        "id": "yCMo4BJkUJkF",
        "outputId": "8e55d7c4-05e8-435a-89f3-8d9c108e30d8"
      },
      "execution_count": 41,
      "outputs": [
        {
          "output_type": "stream",
          "name": "stdout",
          "text": [
            "Selepas menghapus duplicate: \n",
            "\n",
            "      Name  Age     State  Score\n",
            "0      Ali   25  Selangor   85.0\n",
            "1  Fatimah   28     Johor   90.0\n",
            "2    Ahmad   30  Selangor   88.0\n",
            "3     Siti   27     Johor   88.0\n",
            "5  Unknown   22        KL   70.0\n",
            "6    Hafiz   35     Sabah  105.0\n",
            "\n",
            "==================================================\n",
            "\n"
          ]
        }
      ]
    },
    {
      "cell_type": "code",
      "source": [
        "# Step tambahan-buang space di awal dan akhir ayat, dan buat huruf besar di setiap permulaan ayat\n",
        "\n",
        "# column 'Name'\n",
        "df['Name']=df['Name'].str.strip()\n",
        "df['Name']=df['Name'].str.title()\n",
        "\n",
        "# column 'State'\n",
        "df['State']=df['State'].str.strip()\n",
        "df['State']=df['State'].str.title()\n",
        "\n",
        "print(\"Selepas mengubah format:\",'\\n')\n",
        "print(df)\n",
        "print(\"\\n\" + \"=\"*50 + \"\\n\")"
      ],
      "metadata": {
        "colab": {
          "base_uri": "https://localhost:8080/"
        },
        "id": "AIq9Hz7mWIAp",
        "outputId": "dafbc416-cc0d-478f-ff2e-fa2c966bf128"
      },
      "execution_count": 43,
      "outputs": [
        {
          "output_type": "stream",
          "name": "stdout",
          "text": [
            "Selepas mengubah format: \n",
            "\n",
            "      Name  Age     State  Score\n",
            "0      Ali   25  Selangor   85.0\n",
            "1  Fatimah   28     Johor   90.0\n",
            "2    Ahmad   30  Selangor   88.0\n",
            "3     Siti   27     Johor   88.0\n",
            "4    Ahmad   30  Selangor   88.0\n",
            "5  Unknown   22        Kl   70.0\n",
            "6    Hafiz   35     Sabah  105.0\n",
            "\n",
            "==================================================\n",
            "\n"
          ]
        }
      ]
    },
    {
      "cell_type": "code",
      "source": [
        "# Kalau perasan dekat 'bilangan nilai yang hilang' untuk score adalah kosong. Ini salah, sepatutnya dekat column score ade satu nilai yang hilang.\n",
        "# Pandas tak baca simbol \" - \" ini sebagai nilai yang hilang\n",
        "# So untuk menyedari bahawa column tersebut mempunyai nilai yg kosong tanpa melihat data adalah dgn cara melihat datatype untuk 'Score'\n",
        "# Datatype untuk 'Score' sepatutnya angka bukan object. Since datatype yang ditunjukkan adalah object bermakna mungkin ada teks di situ\n",
        "\n",
        "# cara nak membetulkan 'bilangan nilai yang hilang' untuk column 'Score', dgn menukarkan ' - ' kepada 'NaN'\n",
        "\n",
        "df['Score']= df['Score'].replace('-',np.nan)\n",
        "print(\"Data setelah mengubah - ke NaN:\",'\\n')\n",
        "print(df)\n",
        "print(\"\\n\" + \"=\"*50 + \"\\n\")\n"
      ],
      "metadata": {
        "colab": {
          "base_uri": "https://localhost:8080/"
        },
        "id": "5OZiYdswD4A_",
        "outputId": "502c04b6-547b-4f9e-85f4-70a4db0eae87"
      },
      "execution_count": 23,
      "outputs": [
        {
          "output_type": "stream",
          "name": "stdout",
          "text": [
            "Data setelah mengubah - ke NaN: \n",
            "\n",
            "      Name   Age     State Score\n",
            "0      Ali  25.0  Selangor    85\n",
            "1  Fatimah   NaN     Johor    90\n",
            "2    Ahmad  30.0  Selangor    88\n",
            "3     Siti  27.0     Johor   NaN\n",
            "4    Ahmad  30.0  Selangor    88\n",
            "5  Unknown  22.0        KL    70\n",
            "6    Hafiz  35.0     Sabah   105\n",
            "\n",
            "==================================================\n",
            "\n"
          ]
        }
      ]
    }
  ]
}